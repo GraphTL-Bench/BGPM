{
 "cells": [
  {
   "cell_type": "code",
   "execution_count": 8,
   "id": "529035da",
   "metadata": {},
   "outputs": [
    {
     "name": "stdout",
     "output_type": "stream",
     "text": [
      "Submitted batch job 794752\r\n"
     ]
    }
   ],
   "source": [
    "! sbatch run.sh"
   ]
  },
  {
   "cell_type": "code",
   "execution_count": null,
   "id": "31ea485d",
   "metadata": {},
   "outputs": [],
   "source": []
  }
 ],
 "metadata": {
  "kernelspec": {
   "display_name": "pygcl",
   "language": "python",
   "name": "pygcl"
  },
  "language_info": {
   "codemirror_mode": {
    "name": "ipython",
    "version": 3
   },
   "file_extension": ".py",
   "mimetype": "text/x-python",
   "name": "python",
   "nbconvert_exporter": "python",
   "pygments_lexer": "ipython3",
   "version": "3.9.16"
  }
 },
 "nbformat": 4,
 "nbformat_minor": 5
}
